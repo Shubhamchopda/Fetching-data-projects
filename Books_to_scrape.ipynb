{
  "nbformat": 4,
  "nbformat_minor": 0,
  "metadata": {
    "colab": {
      "provenance": [],
      "authorship_tag": "ABX9TyN6OvavkHcb5P+9+tnINxUX"
    },
    "kernelspec": {
      "name": "python3",
      "display_name": "Python 3"
    },
    "language_info": {
      "name": "python"
    }
  },
  "cells": [
    {
      "cell_type": "code",
      "execution_count": null,
      "metadata": {
        "id": "724YR6SG1T5S"
      },
      "outputs": [],
      "source": [
        "import requests\n",
        "from bs4 import BeautifulSoup"
      ]
    },
    {
      "cell_type": "code",
      "source": [
        "url = \"https://books.toscrape.com/index.html\""
      ],
      "metadata": {
        "id": "MoT1Rbu51deV"
      },
      "execution_count": null,
      "outputs": []
    },
    {
      "cell_type": "code",
      "source": [
        "headers = {\n",
        "    \"User-Agent\": \"Mozilla/5.0 (Windows NT 10.0; Win64; x64) AppleWebKit/537.36 \"\n",
        "                  \"(KHTML, like Gecko) Chrome/115.0 Safari/537.36\"\n",
        "}"
      ],
      "metadata": {
        "id": "mGQHNzfH24or"
      },
      "execution_count": null,
      "outputs": []
    },
    {
      "cell_type": "code",
      "source": [
        "page = requests.get(url, headers=headers)"
      ],
      "metadata": {
        "id": "ANljZUET1qBz"
      },
      "execution_count": null,
      "outputs": []
    },
    {
      "cell_type": "code",
      "source": [
        "print(page.status_code)"
      ],
      "metadata": {
        "id": "k8mLya1M159B"
      },
      "execution_count": null,
      "outputs": []
    },
    {
      "cell_type": "code",
      "source": [
        "soup = BeautifulSoup(page.content, \"html.parser\")"
      ],
      "metadata": {
        "id": "9c7Li2Ok12VV"
      },
      "execution_count": null,
      "outputs": []
    },
    {
      "cell_type": "code",
      "source": [
        "results_for_book_name = soup.find_all(\"article\", \"product_pod\")"
      ],
      "metadata": {
        "id": "Q1dT1NSA2Y_M"
      },
      "execution_count": null,
      "outputs": []
    },
    {
      "cell_type": "code",
      "source": [
        "print(results_for_book_name)"
      ],
      "metadata": {
        "collapsed": true,
        "id": "rg-PRH2sbCRp"
      },
      "execution_count": null,
      "outputs": []
    },
    {
      "cell_type": "code",
      "source": [
        "for book in results_for_book_name:\n",
        "  print(book.h3.a[\"title\"])"
      ],
      "metadata": {
        "collapsed": true,
        "id": "dmtp6TM484X2"
      },
      "execution_count": null,
      "outputs": []
    },
    {
      "cell_type": "code",
      "source": [
        "results_for_price = soup.find_all(\"p\", \"price_color\")"
      ],
      "metadata": {
        "id": "JNkevhQWaVSv"
      },
      "execution_count": null,
      "outputs": []
    },
    {
      "cell_type": "code",
      "source": [
        "for price in results_for_price:\n",
        "  print(price.text)"
      ],
      "metadata": {
        "collapsed": true,
        "id": "Y4Zfxc4rdSZR"
      },
      "execution_count": null,
      "outputs": []
    },
    {
      "cell_type": "code",
      "source": [
        "results_for_stock = soup.find_all(\"p\", \"instock availability\")"
      ],
      "metadata": {
        "id": "CHOUoLkHd9aE"
      },
      "execution_count": null,
      "outputs": []
    },
    {
      "cell_type": "code",
      "source": [
        "for stock in results_for_stock:\n",
        "  print(stock.text.strip())"
      ],
      "metadata": {
        "collapsed": true,
        "id": "zt60luoirrCs"
      },
      "execution_count": null,
      "outputs": []
    },
    {
      "cell_type": "code",
      "source": [
        "book_names = []\n",
        "price = []\n",
        "stock = []\n",
        "rating = []"
      ],
      "metadata": {
        "id": "_UArRReGvGS2"
      },
      "execution_count": null,
      "outputs": []
    },
    {
      "cell_type": "code",
      "source": [
        "for i in range(1,51):\n",
        "  url = f\"https://books.toscrape.com/catalogue/page-{i}.html\"\n",
        "  page = requests.get(url)\n",
        "  soup = BeautifulSoup(page.content, \"html.parser\")\n",
        "  results_for_book_name = soup.find_all(\"article\", \"product_pod\")\n",
        "  for book in results_for_book_name:\n",
        "    book_names.append(book.h3.a[\"title\"])\n",
        "    rating.append(book.p[\"class\"][-1])\n",
        "  results_for_price = soup.find_all(\"p\", \"price_color\")\n",
        "  for prices in results_for_price:\n",
        "    price.append(prices.text)\n",
        "  results_for_stock = soup.find_all(\"p\", \"instock availability\")\n",
        "  for stocks in results_for_stock:\n",
        "    stock.append(stocks.text.strip())"
      ],
      "metadata": {
        "collapsed": true,
        "id": "mRCvHr9OruHh"
      },
      "execution_count": null,
      "outputs": []
    },
    {
      "cell_type": "code",
      "source": [
        "print(f\"Length of Books: {len(book_names)}\\nLength of prices: {len(price)}\\nLength of stock: {len(stock)}\\nLength of rating: {len(rating)}\")"
      ],
      "metadata": {
        "id": "PiMG0dyru7N4"
      },
      "execution_count": null,
      "outputs": []
    },
    {
      "cell_type": "code",
      "source": [
        "dict_for_df = {\"Books_name\":book_names, \"Prices\": price, \"Stock\": stock, \"Rating\": rating}"
      ],
      "metadata": {
        "id": "UehowHQGxJWV"
      },
      "execution_count": null,
      "outputs": []
    },
    {
      "cell_type": "code",
      "source": [
        "import pandas as pd"
      ],
      "metadata": {
        "id": "6aiE5ezozcI5"
      },
      "execution_count": null,
      "outputs": []
    },
    {
      "cell_type": "code",
      "source": [
        "df = pd.DataFrame(dict_for_df)"
      ],
      "metadata": {
        "id": "9UoqRllm05Xs"
      },
      "execution_count": null,
      "outputs": []
    },
    {
      "cell_type": "code",
      "source": [
        "df.head()"
      ],
      "metadata": {
        "id": "qlBMwvNp0-s9"
      },
      "execution_count": null,
      "outputs": []
    }
  ]
}